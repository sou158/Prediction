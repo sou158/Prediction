import pandas as pd
import matplotlib.pyplot as plt
from sklearn import linear_model
df=pd.read_csv('CRIC.csv')
df['Mat'].fillna(100,inplace=True)
df['Inns'].fillna(50,inplace=True)
df['Runs'].fillna(1000,inplace=True)
df['Ave'].fillna(40,inplace=True)
df['SR'].fillna(50,inplace=True)
print(df.to_string())

X=df[['Inns','Mat']]
Y=df['Ave']
multiple_linear_regression=linear_model.LinearRegression()
multiple_linear_regression.fit(X,Y)
predicted_avg=multiple_linear_regression.predict([[104,45]])
print(predicted_avg)
x= df['Inns']
y= df['Runs']

from scipy import stats
slope,intercept,r,p,std_arr=stats.linregress(x,y);
def func(x):
    return slope *x+intercept;
model= list(map(func,x))
print(slope)
print(intercept)
print(r)
plt.scatter(x,y,color='red')
plt.plot(x,model,color='blue')
plt.show()
